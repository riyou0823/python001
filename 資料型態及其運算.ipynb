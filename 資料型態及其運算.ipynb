{
  "nbformat": 4,
  "nbformat_minor": 0,
  "metadata": {
    "colab": {
      "name": "資料型態及其運算.ipynb",
      "provenance": [],
      "authorship_tag": "ABX9TyMWPyiObk4BV/Wjgwd2Y/ps",
      "include_colab_link": true
    },
    "kernelspec": {
      "name": "python3",
      "display_name": "Python 3"
    },
    "language_info": {
      "name": "python"
    }
  },
  "cells": [
    {
      "cell_type": "markdown",
      "metadata": {
        "id": "view-in-github",
        "colab_type": "text"
      },
      "source": [
        "<a href=\"https://colab.research.google.com/github/riyou0823/python001/blob/main/%E8%B3%87%E6%96%99%E5%9E%8B%E6%85%8B%E5%8F%8A%E5%85%B6%E9%81%8B%E7%AE%97.ipynb\" target=\"_parent\"><img src=\"https://colab.research.google.com/assets/colab-badge.svg\" alt=\"Open In Colab\"/></a>"
      ]
    },
    {
      "cell_type": "code",
      "metadata": {
        "colab": {
          "base_uri": "https://localhost:8080/"
        },
        "id": "zvkkOtXPMb_X",
        "outputId": "8d5ebeca-be66-430f-a375-82e6a9b6263b"
      },
      "source": [
        "#Round a number to only two decimals:\n",
        "x = round(5.76543, 2)\n",
        "print(x)\n",
        "\n",
        "\n",
        "# Round to the nearest integer:\n",
        "y = round(5.76543)\n",
        "print(y)"
      ],
      "execution_count": null,
      "outputs": [
        {
          "output_type": "stream",
          "text": [
            "5.77\n",
            "6\n"
          ],
          "name": "stdout"
        }
      ]
    },
    {
      "cell_type": "code",
      "metadata": {
        "colab": {
          "base_uri": "https://localhost:8080/"
        },
        "id": "z1K5TfMbM75n",
        "outputId": "513032a0-d1f2-499f-abda-064438966c17"
      },
      "source": [
        "a = 1.0004\n",
        "print(int(a))\n",
        "\n",
        "b = 0.9999\n",
        "print(int(b))"
      ],
      "execution_count": null,
      "outputs": [
        {
          "output_type": "stream",
          "text": [
            "1\n",
            "0\n"
          ],
          "name": "stdout"
        }
      ]
    },
    {
      "cell_type": "code",
      "metadata": {
        "colab": {
          "base_uri": "https://localhost:8080/"
        },
        "id": "hswwEWeCPLK3",
        "outputId": "ebd92f20-d6d3-4b41-b05b-ec36312bd4de"
      },
      "source": [
        "var1 = 'Hello Python!'\n",
        "\n",
        "print(\"var1[0]: \", var1[0])\n",
        "print(\"var1[1:8]: \", var1[1:8]) # Slicing 切片運算"
      ],
      "execution_count": null,
      "outputs": [
        {
          "output_type": "stream",
          "text": [
            "var1[0]:  H\n",
            "var1[1:8]:  ello Py\n"
          ],
          "name": "stdout"
        }
      ]
    },
    {
      "cell_type": "code",
      "metadata": {
        "colab": {
          "base_uri": "https://localhost:8080/"
        },
        "id": "k-DcAyJdXeSn",
        "outputId": "68c4685b-a0ef-49cc-f1af-8271dd18d13a"
      },
      "source": [
        "b = \"Hello, World!\"\n",
        "print(b[2:5])\n",
        "print(b[:5])\n",
        "print(b[2:])\n",
        "print(b[-5:-2]) # Negative Indexing"
      ],
      "execution_count": null,
      "outputs": [
        {
          "output_type": "stream",
          "text": [
            "llo\n",
            "Hello\n",
            "llo, World!\n",
            "orl\n"
          ],
          "name": "stdout"
        }
      ]
    },
    {
      "cell_type": "code",
      "metadata": {
        "colab": {
          "base_uri": "https://localhost:8080/"
        },
        "id": "3QapQ_MkgYZP",
        "outputId": "2d327b28-0368-41b7-cb37-ab5e926cd919"
      },
      "source": [
        "list1 = [21, 33, 14, 12, 32, 98]\n",
        "\n",
        "list1[1]\n",
        "list1[-2]\n",
        "list1[1:3]  # 切片運算"
      ],
      "execution_count": null,
      "outputs": [
        {
          "output_type": "execute_result",
          "data": {
            "text/plain": [
              "[33, 14]"
            ]
          },
          "metadata": {
            "tags": []
          },
          "execution_count": 8
        }
      ]
    },
    {
      "cell_type": "code",
      "metadata": {
        "colab": {
          "base_uri": "https://localhost:8080/"
        },
        "id": "e5BVQuDViYgt",
        "outputId": "e8251e0a-f43f-4917-8296-72715a939b78"
      },
      "source": [
        "list1 = [21, 33, 14, 12, 32, 98]\n",
        "\n",
        "len(list1)\n",
        "max(list1)\n",
        "min(list1)\n",
        "sum(list1)"
      ],
      "execution_count": null,
      "outputs": [
        {
          "output_type": "execute_result",
          "data": {
            "text/plain": [
              "210"
            ]
          },
          "metadata": {
            "tags": []
          },
          "execution_count": 9
        }
      ]
    },
    {
      "cell_type": "code",
      "metadata": {
        "colab": {
          "base_uri": "https://localhost:8080/"
        },
        "id": "lS9_bykwigeE",
        "outputId": "7e969b65-bfca-4cb3-bcbe-e2571d2fd720"
      },
      "source": [
        "list1 = [21, 33, 14, 12, 32, 98]\n",
        "\n",
        "print(len(list1),max(list1),min(list1),sum(list1))"
      ],
      "execution_count": null,
      "outputs": [
        {
          "output_type": "stream",
          "text": [
            "6 98 12 210\n"
          ],
          "name": "stdout"
        }
      ]
    },
    {
      "cell_type": "code",
      "metadata": {
        "id": "_rhD62gqjS5t",
        "colab": {
          "base_uri": "https://localhost:8080/"
        },
        "outputId": "944c7da7-edb9-4af1-90d3-0018189e0420"
      },
      "source": [
        "dict = {'Name': 'DaDaLong', 'Age': 17, 'Class': 'First'}\n",
        "\n",
        "print(\"dict['Name']: \", dict['Name'])\n",
        "print(\"dict['Age']: \", dict['Age'])"
      ],
      "execution_count": 17,
      "outputs": [
        {
          "output_type": "stream",
          "text": [
            "dict['Name']:  DaDaLong\n",
            "dict['Age']:  17\n"
          ],
          "name": "stdout"
        }
      ]
    },
    {
      "cell_type": "code",
      "metadata": {
        "colab": {
          "base_uri": "https://localhost:8080/"
        },
        "id": "ktK30PwW0IM-",
        "outputId": "0fb0d06b-6573-4a84-f74e-b0e831382697"
      },
      "source": [
        "dict = {'Name': 'DaDaLong', 'Age': 17, 'Class': 'First'}\n",
        "dict.items()"
      ],
      "execution_count": 18,
      "outputs": [
        {
          "output_type": "execute_result",
          "data": {
            "text/plain": [
              "dict_items([('Name', 'DaDaLong'), ('Age', 17), ('Class', 'First')])"
            ]
          },
          "metadata": {
            "tags": []
          },
          "execution_count": 18
        }
      ]
    },
    {
      "cell_type": "code",
      "metadata": {
        "colab": {
          "base_uri": "https://localhost:8080/"
        },
        "id": "c1CS5Ijm0Shs",
        "outputId": "e2e5ff11-bd1a-40b5-e27b-dc5c535104a8"
      },
      "source": [
        "dict = {'Name': 'DaDaLong', 'Age': 17, 'Class': 'First'}\n",
        "list(dict.items())\n",
        "dict = {'Name': 'DaDaLong', 'Age': 17, 'Class': 'First'}\n",
        "list(dict.keys())"
      ],
      "execution_count": 19,
      "outputs": [
        {
          "output_type": "execute_result",
          "data": {
            "text/plain": [
              "['Name', 'Age', 'Class']"
            ]
          },
          "metadata": {
            "tags": []
          },
          "execution_count": 19
        }
      ]
    }
  ]
}